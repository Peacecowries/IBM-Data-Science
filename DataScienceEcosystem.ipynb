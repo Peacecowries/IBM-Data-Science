{
 "cells": [
  {
   "cell_type": "markdown",
   "id": "c8c0763d-15ac-410b-861d-11b159e6a546",
   "metadata": {},
   "source": [
    "# Data Science Tools and Ecosystem"
   ]
  },
  {
   "cell_type": "markdown",
   "id": "56f0f7d0-6350-4658-89d1-1247755b9629",
   "metadata": {},
   "source": [
    "In this notebook, Data Science Tools and Ecosystem are summarized."
   ]
  },
  {
   "cell_type": "markdown",
   "id": "de50cec5-ee80-42e7-8aeb-1d8880f95b87",
   "metadata": {},
   "source": [
    "Some of the popular languages that Data Scientists use are:"
   ]
  },
  {
   "cell_type": "markdown",
   "id": "c4804022-d77e-44af-8492-55ba422f51a3",
   "metadata": {
    "tags": []
   },
   "source": [
    "1. Python\n",
    "2. SQL\n",
    "3. R\n",
    "4. Scala\n",
    "5. Julia"
   ]
  },
  {
   "cell_type": "markdown",
   "id": "3da131ce-4f86-4f76-945f-66b8b54e4c1b",
   "metadata": {},
   "source": [
    "Some of the commonly used libraries used by Data Scientists include:\n",
    "1. Panda \n",
    "2. NumPy\n",
    "3. Matplotlib\n",
    "4. TensorFlow\n",
    "5. Scikit-learn\n",
    "6. SciPy"
   ]
  },
  {
   "cell_type": "markdown",
   "id": "8a0ce7eb-6786-46de-8b35-4f244ab482b0",
   "metadata": {},
   "source": [
    "| Data Science Tools |\n",
    "| ------ |\n",
    "| Jupyter Notebook |\n",
    "| R Studio |\n",
    "| Apache Spark |"
   ]
  },
  {
   "cell_type": "markdown",
   "id": "4620fccd-8e8e-4bf0-8a20-f226fb9322da",
   "metadata": {},
   "source": [
    "### Below are a few examples of evaluating arithmetic expressions in Python\n",
    "\\( 1 + 1 \\)"
   ]
  },
  {
   "cell_type": "code",
   "execution_count": 2,
   "id": "c3509e80-fdbc-4fe3-935b-c40dd84166eb",
   "metadata": {
    "tags": []
   },
   "outputs": [
    {
     "data": {
      "text/plain": [
       "17"
      ]
     },
     "execution_count": 2,
     "metadata": {},
     "output_type": "execute_result"
    }
   ],
   "source": [
    "#This a simple arithmetic expression to mutiply then add integers\n",
    "(3*4)+5"
   ]
  },
  {
   "cell_type": "code",
   "execution_count": 3,
   "id": "2979cd4c-0f21-4a39-ac08-86078333d614",
   "metadata": {
    "tags": []
   },
   "outputs": [
    {
     "data": {
      "text/plain": [
       "3.3333333333333335"
      ]
     },
     "execution_count": 3,
     "metadata": {},
     "output_type": "execute_result"
    }
   ],
   "source": [
    "# Input: minutes\n",
    "minutes = 200\n",
    "\n",
    "# Conversion\n",
    "hours = minutes / 60\n",
    "\n",
    "# Output\n",
    "hours"
   ]
  },
  {
   "cell_type": "markdown",
   "id": "0f4ccc4d-3e6a-434d-a1e4-68a11fe34714",
   "metadata": {
    "tags": []
   },
   "source": [
    "**Objectives:**\n",
    "\n",
    "- List popular languages for Data Science.\n",
    "- Explain the importance of version control in collaborative projects.\n",
    "- Demonstrate how to create and execute code cells.\n",
    "- Discuss the benefits of using Markdown cells for documentation.\n",
    "- Explore common tools used in Data Science."
   ]
  },
  {
   "cell_type": "markdown",
   "id": "6b90d0ff-cb88-495c-b60f-bef09b8c3ccf",
   "metadata": {},
   "source": [
    "## Author: [Babatunde Okunubi]"
   ]
  },
  {
   "cell_type": "code",
   "execution_count": null,
   "id": "02c8edbe-9eae-4fd6-b41d-0e81d73df6da",
   "metadata": {},
   "outputs": [],
   "source": []
  }
 ],
 "metadata": {
  "kernelspec": {
   "display_name": "Python 3 (ipykernel)",
   "language": "python",
   "name": "python3"
  },
  "language_info": {
   "codemirror_mode": {
    "name": "ipython",
    "version": 3
   },
   "file_extension": ".py",
   "mimetype": "text/x-python",
   "name": "python",
   "nbconvert_exporter": "python",
   "pygments_lexer": "ipython3",
   "version": "3.11.5"
  }
 },
 "nbformat": 4,
 "nbformat_minor": 5
}
